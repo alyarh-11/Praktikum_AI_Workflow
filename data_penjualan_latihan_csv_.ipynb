{
  "nbformat": 4,
  "nbformat_minor": 0,
  "metadata": {
    "colab": {
      "provenance": [],
      "authorship_tag": "ABX9TyObxoqD88y0SAcD5c9HgHLC",
      "include_colab_link": true
    },
    "kernelspec": {
      "name": "python3",
      "display_name": "Python 3"
    },
    "language_info": {
      "name": "python"
    }
  },
  "cells": [
    {
      "cell_type": "markdown",
      "metadata": {
        "id": "view-in-github",
        "colab_type": "text"
      },
      "source": [
        "<a href=\"https://colab.research.google.com/github/alyarh-11/Praktikum_AI_Workflow/blob/main/data_penjualan_latihan_csv_.ipynb\" target=\"_parent\"><img src=\"https://colab.research.google.com/assets/colab-badge.svg\" alt=\"Open In Colab\"/></a>"
      ]
    },
    {
      "cell_type": "code",
      "execution_count": null,
      "metadata": {
        "colab": {
          "base_uri": "https://localhost:8080/"
        },
        "id": "60oWQzWMe4KM",
        "outputId": "a109032d-9072-4147-e9f9-abeee1c9e5df"
      },
      "outputs": [
        {
          "output_type": "stream",
          "name": "stdout",
          "text": [
            "      Tanggal         Produk  Jumlah Terjual  Stok  Harga Satuan\n",
            "0  2025-02-01  Minyak Goreng              10    20         15000\n",
            "1  2025-02-01          Beras               5    15         12000\n",
            "2  2025-02-02           Gula               7     8         13000\n",
            "3  2025-02-02         Tepung               3    12         11000\n",
            "4  2025-02-03     Mie Instan              12    25          3000\n"
          ]
        }
      ],
      "source": [
        "import pandas as pd\n",
        "\n",
        "# Membaca file CSV\n",
        "df = pd.read_csv(\"data_penjualan_latihan.csv\")\n",
        "\n",
        "# Menampilkan 5 data pertama\n",
        "print(df.head())\n"
      ]
    },
    {
      "cell_type": "code",
      "source": [
        "import pandas as pd\n",
        "\n",
        "# Cek apakah ada data yang kosong\n",
        "print(df.isnull().sum())\n",
        "\n",
        "# Konversi kolom \"Tanggal\" ke format datetime\n",
        "df[\"Tanggal\"] = pd.to_datetime(df[\"Tanggal\"])\n",
        "\n",
        "# Tambahkan kolom \"Total Penjualan\"\n",
        "df[\"Total Penjualan\"] = df[\"Jumlah Terjual\"] * df[\"Harga Satuan\"]\n",
        "\n",
        "# Tambahkan kolom \"Keuntungan\" (asumsi modal 10.000 per produk)\n",
        "df[\"Keuntungan\"] = df[\"Total Penjualan\"] - (df[\"Jumlah Terjual\"] * 10000)\n",
        "\n",
        "# Menampilkan hasil transformasi\n",
        "print(df.head())\n"
      ],
      "metadata": {
        "colab": {
          "base_uri": "https://localhost:8080/"
        },
        "id": "nBYmSmBijBNE",
        "outputId": "fbbf7f47-3e2c-47ef-afe5-df419017e409"
      },
      "execution_count": null,
      "outputs": [
        {
          "output_type": "stream",
          "name": "stdout",
          "text": [
            "Tanggal           0\n",
            "Produk            0\n",
            "Jumlah Terjual    0\n",
            "Stok              0\n",
            "Harga Satuan      0\n",
            "dtype: int64\n",
            "     Tanggal         Produk  Jumlah Terjual  Stok  Harga Satuan  \\\n",
            "0 2025-02-01  Minyak Goreng              10    20         15000   \n",
            "1 2025-02-01          Beras               5    15         12000   \n",
            "2 2025-02-02           Gula               7     8         13000   \n",
            "3 2025-02-02         Tepung               3    12         11000   \n",
            "4 2025-02-03     Mie Instan              12    25          3000   \n",
            "\n",
            "   Total Penjualan  Keuntungan  \n",
            "0           150000       50000  \n",
            "1            60000       10000  \n",
            "2            91000       21000  \n",
            "3            33000        3000  \n",
            "4            36000      -84000  \n"
          ]
        }
      ]
    },
    {
      "cell_type": "code",
      "source": [
        "!pip install scikit-learn"
      ],
      "metadata": {
        "colab": {
          "base_uri": "https://localhost:8080/"
        },
        "id": "laAg6QtZkcT_",
        "outputId": "22d575b3-6fa3-44c4-8b15-ebd42d03435e"
      },
      "execution_count": null,
      "outputs": [
        {
          "output_type": "stream",
          "name": "stdout",
          "text": [
            "Requirement already satisfied: scikit-learn in /usr/local/lib/python3.11/dist-packages (1.6.1)\n",
            "Requirement already satisfied: numpy>=1.19.5 in /usr/local/lib/python3.11/dist-packages (from scikit-learn) (1.26.4)\n",
            "Requirement already satisfied: scipy>=1.6.0 in /usr/local/lib/python3.11/dist-packages (from scikit-learn) (1.13.1)\n",
            "Requirement already satisfied: joblib>=1.2.0 in /usr/local/lib/python3.11/dist-packages (from scikit-learn) (1.4.2)\n",
            "Requirement already satisfied: threadpoolctl>=3.1.0 in /usr/local/lib/python3.11/dist-packages (from scikit-learn) (3.5.0)\n"
          ]
        }
      ]
    },
    {
      "cell_type": "code",
      "source": [
        "from sklearn.model_selection import train_test_split\n",
        "from sklearn.tree import DecisionTreeClassifier\n",
        "from sklearn.metrics import accuracy_score\n",
        "\n",
        "# Pilih fitur (X) dan target (y)\n",
        "X = df[[\"Jumlah Terjual\", \"Stok\"]]\n",
        "y = (df[\"Stok\"] < 5).astype(int)  # 1 jika stok kurang dari 5, 0 jika cukup\n",
        "\n",
        "# Split data menjadi train dan test\n",
        "X_train, X_test, y_train, y_test = train_test_split(X, y, test_size=0.2, random_state=42)\n",
        "\n",
        "# Buat model Decision Tree\n",
        "model = DecisionTreeClassifier()\n",
        "model.fit(X_train, y_train)\n",
        "\n",
        "# Evaluasi model\n",
        "y_pred = model.predict(X_test)\n",
        "print(\"Akurasi Model:\", accuracy_score(y_test, y_pred))\n"
      ],
      "metadata": {
        "colab": {
          "base_uri": "https://localhost:8080/"
        },
        "id": "LcqhiriDkreO",
        "outputId": "a50da57c-5fc4-4ca7-8951-40c50ea647a3"
      },
      "execution_count": null,
      "outputs": [
        {
          "output_type": "stream",
          "name": "stdout",
          "text": [
            "Akurasi Model: 1.0\n"
          ]
        }
      ]
    },
    {
      "cell_type": "code",
      "source": [
        "# Contoh produk baru (jumlah terjual 8, stok tersisa 3)\n",
        "produk_baru = [[8, 3]]\n",
        "prediksi = model.predict(produk_baru)\n",
        "\n",
        "if prediksi[0] == 1:\n",
        "    print(\"Produk perlu di-restock!\")\n",
        "else:\n",
        "    print(\"Stok masih cukup.\")\n"
      ],
      "metadata": {
        "colab": {
          "base_uri": "https://localhost:8080/"
        },
        "id": "AE-OxCcyk-15",
        "outputId": "3776731d-5180-479a-bb03-e0dd3f9f7605"
      },
      "execution_count": null,
      "outputs": [
        {
          "output_type": "stream",
          "name": "stdout",
          "text": [
            "Stok masih cukup.\n"
          ]
        },
        {
          "output_type": "stream",
          "name": "stderr",
          "text": [
            "/usr/local/lib/python3.11/dist-packages/sklearn/utils/validation.py:2739: UserWarning: X does not have valid feature names, but DecisionTreeClassifier was fitted with feature names\n",
            "  warnings.warn(\n"
          ]
        }
      ]
    },
    {
      "cell_type": "code",
      "source": [
        "import matplotlib.pyplot as plt\n",
        "\n",
        "plt.scatter(df[\"Jumlah Terjual\"], df[\"Stok\"], c=df[\"Keuntungan\"], cmap=\"coolwarm\")\n",
        "plt.xlabel(\"Jumlah Terjual\")\n",
        "plt.ylabel(\"Stok\")\n",
        "plt.title(\"Analisis Penjualan dan Stok\")\n",
        "plt.colorbar(label=\"Keuntungan\")\n",
        "plt.show()\n"
      ],
      "metadata": {
        "id": "EyHCzxj2mF-6",
        "outputId": "4a240c5b-4e18-418f-a5e2-3640d85703d7",
        "colab": {
          "base_uri": "https://localhost:8080/",
          "height": 472
        }
      },
      "execution_count": null,
      "outputs": [
        {
          "output_type": "display_data",
          "data": {
            "text/plain": [
              "<Figure size 640x480 with 2 Axes>"
            ],
            "image/png": "[encoded data removed]"
          },
          "metadata": {}
        }
      ]
    }
  ]
}